{
 "cells": [
  {
   "cell_type": "markdown",
   "id": "25c1aed7",
   "metadata": {
    "papermill": {
     "duration": 0.033535,
     "end_time": "2022-01-12T12:03:17.917446",
     "exception": false,
     "start_time": "2022-01-12T12:03:17.883911",
     "status": "completed"
    },
    "tags": []
   },
   "source": [
    "## Exploratory Data Analysis on COVID19\n",
    "Coronavirus disease is a contagious disease that is believed to have started in Wuhan, China in the month of December, 2019. The virus has been spreading worldwide since then and still hasn't been controlled. Several vaccines have been approved and distributed leading to mass vaccination drives. However, the virus seems to be constantly evolving and has not been properly controlled yet.\n",
    "This analysis is for experimenting and the data can be found on Kaggle as a public dataset."
   ]
  },
  {
   "cell_type": "code",
   "execution_count": 1,
   "id": "a6255ec2",
   "metadata": {
    "execution": {
     "iopub.execute_input": "2022-01-12T12:03:17.992381Z",
     "iopub.status.busy": "2022-01-12T12:03:17.987663Z",
     "iopub.status.idle": "2022-01-12T12:03:18.926262Z",
     "shell.execute_reply": "2022-01-12T12:03:18.926771Z",
     "shell.execute_reply.started": "2022-01-12T09:47:31.325171Z"
    },
    "papermill": {
     "duration": 0.976017,
     "end_time": "2022-01-12T12:03:18.927083",
     "exception": false,
     "start_time": "2022-01-12T12:03:17.951066",
     "status": "completed"
    },
    "tags": []
   },
   "outputs": [],
   "source": [
    "# Setting up the environment\n",
    "import pandas as pd\n",
    "import numpy as np\n",
    "import matplotlib.pyplot as plt\n",
    "import seaborn as sns\n",
    "import datetime as dt"
   ]
  },
  {
   "cell_type": "code",
   "execution_count": 2,
   "id": "33c795ad",
   "metadata": {
    "execution": {
     "iopub.execute_input": "2022-01-12T12:03:19.003473Z",
     "iopub.status.busy": "2022-01-12T12:03:19.002841Z",
     "iopub.status.idle": "2022-01-12T12:03:19.060201Z",
     "shell.execute_reply": "2022-01-12T12:03:19.060743Z",
     "shell.execute_reply.started": "2022-01-12T09:47:35.445627Z"
    },
    "papermill": {
     "duration": 0.097487,
     "end_time": "2022-01-12T12:03:19.060916",
     "exception": false,
     "start_time": "2022-01-12T12:03:18.963429",
     "status": "completed"
    },
    "tags": []
   },
   "outputs": [],
   "source": [
    "# Importing data\n",
    "covid_df = pd.read_csv(\"covid_19_india.csv\")"
   ]
  },
  {
   "cell_type": "code",
   "execution_count": 3,
   "id": "5ac74f6f",
   "metadata": {
    "execution": {
     "iopub.execute_input": "2022-01-12T12:03:19.127692Z",
     "iopub.status.busy": "2022-01-12T12:03:19.127114Z",
     "iopub.status.idle": "2022-01-12T12:03:19.145577Z",
     "shell.execute_reply": "2022-01-12T12:03:19.146050Z",
     "shell.execute_reply.started": "2022-01-12T09:47:40.985249Z"
    },
    "papermill": {
     "duration": 0.053432,
     "end_time": "2022-01-12T12:03:19.146209",
     "exception": false,
     "start_time": "2022-01-12T12:03:19.092777",
     "status": "completed"
    },
    "tags": []
   },
   "outputs": [
    {
     "data": {
      "text/html": [
       "<div>\n",
       "<style scoped>\n",
       "    .dataframe tbody tr th:only-of-type {\n",
       "        vertical-align: middle;\n",
       "    }\n",
       "\n",
       "    .dataframe tbody tr th {\n",
       "        vertical-align: top;\n",
       "    }\n",
       "\n",
       "    .dataframe thead th {\n",
       "        text-align: right;\n",
       "    }\n",
       "</style>\n",
       "<table border=\"1\" class=\"dataframe\">\n",
       "  <thead>\n",
       "    <tr style=\"text-align: right;\">\n",
       "      <th></th>\n",
       "      <th>Sno</th>\n",
       "      <th>Date</th>\n",
       "      <th>Time</th>\n",
       "      <th>State/UnionTerritory</th>\n",
       "      <th>ConfirmedIndianNational</th>\n",
       "      <th>ConfirmedForeignNational</th>\n",
       "      <th>Cured</th>\n",
       "      <th>Deaths</th>\n",
       "      <th>Confirmed</th>\n",
       "    </tr>\n",
       "  </thead>\n",
       "  <tbody>\n",
       "    <tr>\n",
       "      <th>0</th>\n",
       "      <td>1</td>\n",
       "      <td>2020-01-30</td>\n",
       "      <td>6:00 PM</td>\n",
       "      <td>Kerala</td>\n",
       "      <td>1</td>\n",
       "      <td>0</td>\n",
       "      <td>0</td>\n",
       "      <td>0</td>\n",
       "      <td>1</td>\n",
       "    </tr>\n",
       "    <tr>\n",
       "      <th>1</th>\n",
       "      <td>2</td>\n",
       "      <td>2020-01-31</td>\n",
       "      <td>6:00 PM</td>\n",
       "      <td>Kerala</td>\n",
       "      <td>1</td>\n",
       "      <td>0</td>\n",
       "      <td>0</td>\n",
       "      <td>0</td>\n",
       "      <td>1</td>\n",
       "    </tr>\n",
       "    <tr>\n",
       "      <th>2</th>\n",
       "      <td>3</td>\n",
       "      <td>2020-02-01</td>\n",
       "      <td>6:00 PM</td>\n",
       "      <td>Kerala</td>\n",
       "      <td>2</td>\n",
       "      <td>0</td>\n",
       "      <td>0</td>\n",
       "      <td>0</td>\n",
       "      <td>2</td>\n",
       "    </tr>\n",
       "    <tr>\n",
       "      <th>3</th>\n",
       "      <td>4</td>\n",
       "      <td>2020-02-02</td>\n",
       "      <td>6:00 PM</td>\n",
       "      <td>Kerala</td>\n",
       "      <td>3</td>\n",
       "      <td>0</td>\n",
       "      <td>0</td>\n",
       "      <td>0</td>\n",
       "      <td>3</td>\n",
       "    </tr>\n",
       "    <tr>\n",
       "      <th>4</th>\n",
       "      <td>5</td>\n",
       "      <td>2020-02-03</td>\n",
       "      <td>6:00 PM</td>\n",
       "      <td>Kerala</td>\n",
       "      <td>3</td>\n",
       "      <td>0</td>\n",
       "      <td>0</td>\n",
       "      <td>0</td>\n",
       "      <td>3</td>\n",
       "    </tr>\n",
       "  </tbody>\n",
       "</table>\n",
       "</div>"
      ],
      "text/plain": [
       "   Sno        Date     Time State/UnionTerritory ConfirmedIndianNational  \\\n",
       "0    1  2020-01-30  6:00 PM               Kerala                       1   \n",
       "1    2  2020-01-31  6:00 PM               Kerala                       1   \n",
       "2    3  2020-02-01  6:00 PM               Kerala                       2   \n",
       "3    4  2020-02-02  6:00 PM               Kerala                       3   \n",
       "4    5  2020-02-03  6:00 PM               Kerala                       3   \n",
       "\n",
       "  ConfirmedForeignNational  Cured  Deaths  Confirmed  \n",
       "0                        0      0       0          1  \n",
       "1                        0      0       0          1  \n",
       "2                        0      0       0          2  \n",
       "3                        0      0       0          3  \n",
       "4                        0      0       0          3  "
      ]
     },
     "execution_count": 3,
     "metadata": {},
     "output_type": "execute_result"
    }
   ],
   "source": [
    "# have a look at the dataset\n",
    "covid_df.head()"
   ]
  },
  {
   "cell_type": "markdown",
   "id": "ca269164",
   "metadata": {
    "papermill": {
     "duration": 0.03118,
     "end_time": "2022-01-12T12:03:19.209542",
     "exception": false,
     "start_time": "2022-01-12T12:03:19.178362",
     "status": "completed"
    },
    "tags": []
   },
   "source": [
    "### Cleaning the data for analysis"
   ]
  },
  {
   "cell_type": "code",
   "execution_count": 4,
   "id": "506f69b9",
   "metadata": {
    "execution": {
     "iopub.execute_input": "2022-01-12T12:03:19.275911Z",
     "iopub.status.busy": "2022-01-12T12:03:19.275275Z",
     "iopub.status.idle": "2022-01-12T12:03:19.287252Z",
     "shell.execute_reply": "2022-01-12T12:03:19.287700Z",
     "shell.execute_reply.started": "2022-01-12T09:47:46.030403Z"
    },
    "papermill": {
     "duration": 0.046595,
     "end_time": "2022-01-12T12:03:19.287873",
     "exception": false,
     "start_time": "2022-01-12T12:03:19.241278",
     "status": "completed"
    },
    "tags": []
   },
   "outputs": [
    {
     "data": {
      "text/plain": [
       "Sno                         0\n",
       "Date                        0\n",
       "Time                        0\n",
       "State/UnionTerritory        0\n",
       "ConfirmedIndianNational     0\n",
       "ConfirmedForeignNational    0\n",
       "Cured                       0\n",
       "Deaths                      0\n",
       "Confirmed                   0\n",
       "dtype: int64"
      ]
     },
     "execution_count": 4,
     "metadata": {},
     "output_type": "execute_result"
    }
   ],
   "source": [
    "# Checking each column for null values\n",
    "covid_df.isnull().sum(axis = 0)"
   ]
  },
  {
   "cell_type": "code",
   "execution_count": 5,
   "id": "bb619868",
   "metadata": {
    "execution": {
     "iopub.execute_input": "2022-01-12T12:03:19.363135Z",
     "iopub.status.busy": "2022-01-12T12:03:19.362082Z",
     "iopub.status.idle": "2022-01-12T12:03:19.372303Z",
     "shell.execute_reply": "2022-01-12T12:03:19.372917Z",
     "shell.execute_reply.started": "2022-01-12T09:47:50.154188Z"
    },
    "papermill": {
     "duration": 0.052583,
     "end_time": "2022-01-12T12:03:19.373120",
     "exception": false,
     "start_time": "2022-01-12T12:03:19.320537",
     "status": "completed"
    },
    "tags": []
   },
   "outputs": [],
   "source": [
    "# removing the leading and trailing spaces in the column if there is any\n",
    "covid_df[\"State/UnionTerritory\"] = covid_df[\"State/UnionTerritory\"].str.strip()"
   ]
  },
  {
   "cell_type": "code",
   "execution_count": 6,
   "id": "57d3141b",
   "metadata": {
    "execution": {
     "iopub.execute_input": "2022-01-12T12:03:19.447647Z",
     "iopub.status.busy": "2022-01-12T12:03:19.447016Z",
     "iopub.status.idle": "2022-01-12T12:03:19.455565Z",
     "shell.execute_reply": "2022-01-12T12:03:19.456130Z",
     "shell.execute_reply.started": "2022-01-12T09:47:52.779528Z"
    },
    "papermill": {
     "duration": 0.047121,
     "end_time": "2022-01-12T12:03:19.456297",
     "exception": false,
     "start_time": "2022-01-12T12:03:19.409176",
     "status": "completed"
    },
    "tags": []
   },
   "outputs": [
    {
     "data": {
      "text/plain": [
       "array(['Kerala', 'Telengana', 'Delhi', 'Rajasthan', 'Uttar Pradesh',\n",
       "       'Haryana', 'Ladakh', 'Tamil Nadu', 'Karnataka', 'Maharashtra',\n",
       "       'Punjab', 'Jammu and Kashmir', 'Andhra Pradesh', 'Uttarakhand',\n",
       "       'Odisha', 'Puducherry', 'West Bengal', 'Chhattisgarh',\n",
       "       'Chandigarh', 'Gujarat', 'Himachal Pradesh', 'Madhya Pradesh',\n",
       "       'Bihar', 'Manipur', 'Mizoram', 'Andaman and Nicobar Islands',\n",
       "       'Goa', 'Unassigned', 'Assam', 'Jharkhand', 'Arunachal Pradesh',\n",
       "       'Tripura', 'Nagaland', 'Meghalaya',\n",
       "       'Dadra and Nagar Haveli and Daman and Diu',\n",
       "       'Cases being reassigned to states', 'Sikkim', 'Daman & Diu',\n",
       "       'Lakshadweep', 'Telangana', 'Dadra and Nagar Haveli', 'Bihar****',\n",
       "       'Madhya Pradesh***', 'Himanchal Pradesh', 'Karanataka',\n",
       "       'Maharashtra***'], dtype=object)"
      ]
     },
     "execution_count": 6,
     "metadata": {},
     "output_type": "execute_result"
    }
   ],
   "source": [
    "# how many unique values are there in the state column\n",
    "covid_df[\"State/UnionTerritory\"].unique()"
   ]
  },
  {
   "cell_type": "markdown",
   "id": "3854d45a",
   "metadata": {
    "papermill": {
     "duration": 0.031675,
     "end_time": "2022-01-12T12:03:19.520362",
     "exception": false,
     "start_time": "2022-01-12T12:03:19.488687",
     "status": "completed"
    },
    "tags": []
   },
   "source": [
    "There seems to be some typos in the State/UnionTerritory column. The following codes will set it right."
   ]
  },
  {
   "cell_type": "code",
   "execution_count": 7,
   "id": "cb1c9917",
   "metadata": {
    "execution": {
     "iopub.execute_input": "2022-01-12T12:03:19.587598Z",
     "iopub.status.busy": "2022-01-12T12:03:19.587002Z",
     "iopub.status.idle": "2022-01-12T12:03:19.594427Z",
     "shell.execute_reply": "2022-01-12T12:03:19.595024Z",
     "shell.execute_reply.started": "2022-01-12T09:47:56.574907Z"
    },
    "papermill": {
     "duration": 0.042529,
     "end_time": "2022-01-12T12:03:19.595199",
     "exception": false,
     "start_time": "2022-01-12T12:03:19.552670",
     "status": "completed"
    },
    "tags": []
   },
   "outputs": [],
   "source": [
    "covid_df[\"State/UnionTerritory\"] = covid_df[\"State/UnionTerritory\"].replace(['Bihar****'], 'Bihar')"
   ]
  },
  {
   "cell_type": "code",
   "execution_count": 8,
   "id": "7b8fb3fb",
   "metadata": {
    "execution": {
     "iopub.execute_input": "2022-01-12T12:03:19.663126Z",
     "iopub.status.busy": "2022-01-12T12:03:19.662213Z",
     "iopub.status.idle": "2022-01-12T12:03:19.668332Z",
     "shell.execute_reply": "2022-01-12T12:03:19.668944Z",
     "shell.execute_reply.started": "2022-01-12T09:47:57.794152Z"
    },
    "papermill": {
     "duration": 0.041831,
     "end_time": "2022-01-12T12:03:19.669121",
     "exception": false,
     "start_time": "2022-01-12T12:03:19.627290",
     "status": "completed"
    },
    "tags": []
   },
   "outputs": [],
   "source": [
    "covid_df[\"State/UnionTerritory\"] = covid_df[\"State/UnionTerritory\"].replace(['Madhya Pradesh***'],\n",
    "                                                                            'Madhya Pradesh')"
   ]
  },
  {
   "cell_type": "code",
   "execution_count": 9,
   "id": "218a1808",
   "metadata": {
    "execution": {
     "iopub.execute_input": "2022-01-12T12:03:19.736913Z",
     "iopub.status.busy": "2022-01-12T12:03:19.735929Z",
     "iopub.status.idle": "2022-01-12T12:03:19.742085Z",
     "shell.execute_reply": "2022-01-12T12:03:19.742594Z",
     "shell.execute_reply.started": "2022-01-12T09:47:58.940408Z"
    },
    "papermill": {
     "duration": 0.041489,
     "end_time": "2022-01-12T12:03:19.742760",
     "exception": false,
     "start_time": "2022-01-12T12:03:19.701271",
     "status": "completed"
    },
    "tags": []
   },
   "outputs": [],
   "source": [
    "covid_df[\"State/UnionTerritory\"] = covid_df[\"State/UnionTerritory\"].replace(['Himanchal Pradesh'], \n",
    "                                                                            'Himachal Pradesh')"
   ]
  },
  {
   "cell_type": "code",
   "execution_count": 10,
   "id": "a6785e02",
   "metadata": {
    "execution": {
     "iopub.execute_input": "2022-01-12T12:03:19.809955Z",
     "iopub.status.busy": "2022-01-12T12:03:19.809044Z",
     "iopub.status.idle": "2022-01-12T12:03:19.815190Z",
     "shell.execute_reply": "2022-01-12T12:03:19.815693Z",
     "shell.execute_reply.started": "2022-01-12T09:48:00.03135Z"
    },
    "papermill": {
     "duration": 0.041272,
     "end_time": "2022-01-12T12:03:19.815856",
     "exception": false,
     "start_time": "2022-01-12T12:03:19.774584",
     "status": "completed"
    },
    "tags": []
   },
   "outputs": [],
   "source": [
    "covid_df[\"State/UnionTerritory\"] = covid_df[\"State/UnionTerritory\"].replace(['Karanataka'], 'Karnataka')"
   ]
  },
  {
   "cell_type": "code",
   "execution_count": 11,
   "id": "9852dcf0",
   "metadata": {
    "execution": {
     "iopub.execute_input": "2022-01-12T12:03:19.884383Z",
     "iopub.status.busy": "2022-01-12T12:03:19.883406Z",
     "iopub.status.idle": "2022-01-12T12:03:19.889489Z",
     "shell.execute_reply": "2022-01-12T12:03:19.889957Z",
     "shell.execute_reply.started": "2022-01-12T09:48:01.055629Z"
    },
    "papermill": {
     "duration": 0.042503,
     "end_time": "2022-01-12T12:03:19.890131",
     "exception": false,
     "start_time": "2022-01-12T12:03:19.847628",
     "status": "completed"
    },
    "tags": []
   },
   "outputs": [],
   "source": [
    "covid_df[\"State/UnionTerritory\"] = covid_df[\"State/UnionTerritory\"].replace(['Maharashtra***'], 'Maharashtra')"
   ]
  },
  {
   "cell_type": "code",
   "execution_count": 12,
   "id": "7f8b1979",
   "metadata": {
    "execution": {
     "iopub.execute_input": "2022-01-12T12:03:19.960542Z",
     "iopub.status.busy": "2022-01-12T12:03:19.959555Z",
     "iopub.status.idle": "2022-01-12T12:03:19.962891Z",
     "shell.execute_reply": "2022-01-12T12:03:19.963341Z",
     "shell.execute_reply.started": "2022-01-12T09:48:02.004652Z"
    },
    "papermill": {
     "duration": 0.041271,
     "end_time": "2022-01-12T12:03:19.963521",
     "exception": false,
     "start_time": "2022-01-12T12:03:19.922250",
     "status": "completed"
    },
    "tags": []
   },
   "outputs": [],
   "source": [
    "covid_df[\"State/UnionTerritory\"] = covid_df[\"State/UnionTerritory\"].replace(['Dadra and Nagar Haveli and Daman and Diu'],\n",
    "                                                                            'Dadra and Nagar Haveli')"
   ]
  },
  {
   "cell_type": "code",
   "execution_count": 13,
   "id": "597efb89",
   "metadata": {
    "execution": {
     "iopub.execute_input": "2022-01-12T12:03:20.035465Z",
     "iopub.status.busy": "2022-01-12T12:03:20.034365Z",
     "iopub.status.idle": "2022-01-12T12:03:20.038383Z",
     "shell.execute_reply": "2022-01-12T12:03:20.037777Z",
     "shell.execute_reply.started": "2022-01-12T09:48:02.834537Z"
    },
    "papermill": {
     "duration": 0.042601,
     "end_time": "2022-01-12T12:03:20.038555",
     "exception": false,
     "start_time": "2022-01-12T12:03:19.995954",
     "status": "completed"
    },
    "tags": []
   },
   "outputs": [],
   "source": [
    "covid_df[\"State/UnionTerritory\"] = covid_df[\"State/UnionTerritory\"].replace(['Telengana'], 'Telangana')"
   ]
  },
  {
   "cell_type": "code",
   "execution_count": 14,
   "id": "fe74c6ba",
   "metadata": {
    "execution": {
     "iopub.execute_input": "2022-01-12T12:03:20.107894Z",
     "iopub.status.busy": "2022-01-12T12:03:20.106970Z",
     "iopub.status.idle": "2022-01-12T12:03:20.111609Z",
     "shell.execute_reply": "2022-01-12T12:03:20.112052Z",
     "shell.execute_reply.started": "2022-01-12T09:48:04.234178Z"
    },
    "papermill": {
     "duration": 0.040319,
     "end_time": "2022-01-12T12:03:20.112219",
     "exception": false,
     "start_time": "2022-01-12T12:03:20.071900",
     "status": "completed"
    },
    "tags": []
   },
   "outputs": [
    {
     "data": {
      "text/plain": [
       "(18110, 9)"
      ]
     },
     "execution_count": 14,
     "metadata": {},
     "output_type": "execute_result"
    }
   ],
   "source": [
    "# checking the size of the dataframe before removing some data\n",
    "covid_df.shape"
   ]
  },
  {
   "cell_type": "code",
   "execution_count": 15,
   "id": "46e1f244",
   "metadata": {
    "execution": {
     "iopub.execute_input": "2022-01-12T12:03:20.181771Z",
     "iopub.status.busy": "2022-01-12T12:03:20.180832Z",
     "iopub.status.idle": "2022-01-12T12:03:20.189779Z",
     "shell.execute_reply": "2022-01-12T12:03:20.190218Z",
     "shell.execute_reply.started": "2022-01-12T09:48:05.695463Z"
    },
    "papermill": {
     "duration": 0.045173,
     "end_time": "2022-01-12T12:03:20.190389",
     "exception": false,
     "start_time": "2022-01-12T12:03:20.145216",
     "status": "completed"
    },
    "tags": []
   },
   "outputs": [],
   "source": [
    "covid_df = covid_df.loc[covid_df[\"State/UnionTerritory\"] != \"Unassigned\"]"
   ]
  },
  {
   "cell_type": "code",
   "execution_count": 16,
   "id": "f2c42183",
   "metadata": {
    "execution": {
     "iopub.execute_input": "2022-01-12T12:03:20.261595Z",
     "iopub.status.busy": "2022-01-12T12:03:20.260556Z",
     "iopub.status.idle": "2022-01-12T12:03:20.265129Z",
     "shell.execute_reply": "2022-01-12T12:03:20.265559Z",
     "shell.execute_reply.started": "2022-01-12T09:48:08.914364Z"
    },
    "papermill": {
     "duration": 0.043064,
     "end_time": "2022-01-12T12:03:20.265743",
     "exception": false,
     "start_time": "2022-01-12T12:03:20.222679",
     "status": "completed"
    },
    "tags": []
   },
   "outputs": [],
   "source": [
    "covid_df = covid_df.loc[covid_df[\"State/UnionTerritory\"] != \"Cases being reassigned to states\"]"
   ]
  },
  {
   "cell_type": "code",
   "execution_count": 17,
   "id": "75feaec2",
   "metadata": {
    "execution": {
     "iopub.execute_input": "2022-01-12T12:03:20.337282Z",
     "iopub.status.busy": "2022-01-12T12:03:20.336315Z",
     "iopub.status.idle": "2022-01-12T12:03:20.340486Z",
     "shell.execute_reply": "2022-01-12T12:03:20.341029Z",
     "shell.execute_reply.started": "2022-01-12T09:48:10.20564Z"
    },
    "papermill": {
     "duration": 0.042248,
     "end_time": "2022-01-12T12:03:20.341186",
     "exception": false,
     "start_time": "2022-01-12T12:03:20.298938",
     "status": "completed"
    },
    "tags": []
   },
   "outputs": [
    {
     "data": {
      "text/plain": [
       "array(['Kerala', 'Telangana', 'Delhi', 'Rajasthan', 'Uttar Pradesh',\n",
       "       'Haryana', 'Ladakh', 'Tamil Nadu', 'Karnataka', 'Maharashtra',\n",
       "       'Punjab', 'Jammu and Kashmir', 'Andhra Pradesh', 'Uttarakhand',\n",
       "       'Odisha', 'Puducherry', 'West Bengal', 'Chhattisgarh',\n",
       "       'Chandigarh', 'Gujarat', 'Himachal Pradesh', 'Madhya Pradesh',\n",
       "       'Bihar', 'Manipur', 'Mizoram', 'Andaman and Nicobar Islands',\n",
       "       'Goa', 'Assam', 'Jharkhand', 'Arunachal Pradesh', 'Tripura',\n",
       "       'Nagaland', 'Meghalaya', 'Dadra and Nagar Haveli', 'Sikkim',\n",
       "       'Daman & Diu', 'Lakshadweep'], dtype=object)"
      ]
     },
     "execution_count": 17,
     "metadata": {},
     "output_type": "execute_result"
    }
   ],
   "source": [
    "# checking if all the values have been assigned properly\n",
    "covid_df[\"State/UnionTerritory\"].unique()"
   ]
  },
  {
   "cell_type": "code",
   "execution_count": 18,
   "id": "00040df6",
   "metadata": {
    "execution": {
     "iopub.execute_input": "2022-01-12T12:03:20.410571Z",
     "iopub.status.busy": "2022-01-12T12:03:20.409621Z",
     "iopub.status.idle": "2022-01-12T12:03:20.415226Z",
     "shell.execute_reply": "2022-01-12T12:03:20.414583Z",
     "shell.execute_reply.started": "2022-01-12T09:48:11.995248Z"
    },
    "papermill": {
     "duration": 0.041682,
     "end_time": "2022-01-12T12:03:20.415358",
     "exception": false,
     "start_time": "2022-01-12T12:03:20.373676",
     "status": "completed"
    },
    "tags": []
   },
   "outputs": [
    {
     "data": {
      "text/plain": [
       "(18047, 9)"
      ]
     },
     "execution_count": 18,
     "metadata": {},
     "output_type": "execute_result"
    }
   ],
   "source": [
    "# checking the shape again to note how many records were lost\n",
    "covid_df.shape"
   ]
  },
  {
   "cell_type": "markdown",
   "id": "ee3b4791",
   "metadata": {
    "papermill": {
     "duration": 0.042187,
     "end_time": "2022-01-12T12:03:20.491175",
     "exception": false,
     "start_time": "2022-01-12T12:03:20.448988",
     "status": "completed"
    },
    "tags": []
   },
   "source": [
    "Next, there will be a check if any of the columns has null values."
   ]
  },
  {
   "cell_type": "code",
   "execution_count": 19,
   "id": "859e440f",
   "metadata": {
    "execution": {
     "iopub.execute_input": "2022-01-12T12:03:20.586575Z",
     "iopub.status.busy": "2022-01-12T12:03:20.582119Z",
     "iopub.status.idle": "2022-01-12T12:03:20.589541Z",
     "shell.execute_reply": "2022-01-12T12:03:20.590071Z",
     "shell.execute_reply.started": "2022-01-12T09:48:34.899608Z"
    },
    "papermill": {
     "duration": 0.051069,
     "end_time": "2022-01-12T12:03:20.590239",
     "exception": false,
     "start_time": "2022-01-12T12:03:20.539170",
     "status": "completed"
    },
    "tags": []
   },
   "outputs": [
    {
     "data": {
      "text/plain": [
       "0"
      ]
     },
     "execution_count": 19,
     "metadata": {},
     "output_type": "execute_result"
    }
   ],
   "source": [
    "covid_df[\"Date\"].isnull().sum(axis = 0)"
   ]
  },
  {
   "cell_type": "code",
   "execution_count": 20,
   "id": "20d50477",
   "metadata": {
    "execution": {
     "iopub.execute_input": "2022-01-12T12:03:20.668658Z",
     "iopub.status.busy": "2022-01-12T12:03:20.668043Z",
     "iopub.status.idle": "2022-01-12T12:03:20.670307Z",
     "shell.execute_reply": "2022-01-12T12:03:20.670765Z",
     "shell.execute_reply.started": "2022-01-12T09:48:38.524496Z"
    },
    "papermill": {
     "duration": 0.044999,
     "end_time": "2022-01-12T12:03:20.670931",
     "exception": false,
     "start_time": "2022-01-12T12:03:20.625932",
     "status": "completed"
    },
    "tags": []
   },
   "outputs": [
    {
     "data": {
      "text/plain": [
       "0"
      ]
     },
     "execution_count": 20,
     "metadata": {},
     "output_type": "execute_result"
    }
   ],
   "source": [
    "covid_df[\"Time\"].isnull().sum(axis = 0)"
   ]
  },
  {
   "cell_type": "code",
   "execution_count": 21,
   "id": "6c26abc9",
   "metadata": {
    "execution": {
     "iopub.execute_input": "2022-01-12T12:03:20.740879Z",
     "iopub.status.busy": "2022-01-12T12:03:20.740261Z",
     "iopub.status.idle": "2022-01-12T12:03:20.746845Z",
     "shell.execute_reply": "2022-01-12T12:03:20.747293Z",
     "shell.execute_reply.started": "2022-01-12T09:48:40.85076Z"
    },
    "papermill": {
     "duration": 0.043196,
     "end_time": "2022-01-12T12:03:20.747456",
     "exception": false,
     "start_time": "2022-01-12T12:03:20.704260",
     "status": "completed"
    },
    "tags": []
   },
   "outputs": [
    {
     "data": {
      "text/plain": [
       "0"
      ]
     },
     "execution_count": 21,
     "metadata": {},
     "output_type": "execute_result"
    }
   ],
   "source": [
    "covid_df[\"ConfirmedIndianNational\"].isnull().sum(axis = 0)"
   ]
  },
  {
   "cell_type": "code",
   "execution_count": 22,
   "id": "e7b15238",
   "metadata": {
    "execution": {
     "iopub.execute_input": "2022-01-12T12:03:20.821646Z",
     "iopub.status.busy": "2022-01-12T12:03:20.821077Z",
     "iopub.status.idle": "2022-01-12T12:03:20.825190Z",
     "shell.execute_reply": "2022-01-12T12:03:20.824719Z",
     "shell.execute_reply.started": "2022-01-12T09:48:42.345187Z"
    },
    "papermill": {
     "duration": 0.044338,
     "end_time": "2022-01-12T12:03:20.825322",
     "exception": false,
     "start_time": "2022-01-12T12:03:20.780984",
     "status": "completed"
    },
    "tags": []
   },
   "outputs": [
    {
     "data": {
      "text/plain": [
       "0"
      ]
     },
     "execution_count": 22,
     "metadata": {},
     "output_type": "execute_result"
    }
   ],
   "source": [
    "covid_df[\"ConfirmedForeignNational\"].isnull().sum(axis = 0)"
   ]
  },
  {
   "cell_type": "code",
   "execution_count": 23,
   "id": "9eda77b0",
   "metadata": {
    "execution": {
     "iopub.execute_input": "2022-01-12T12:03:20.903771Z",
     "iopub.status.busy": "2022-01-12T12:03:20.903136Z",
     "iopub.status.idle": "2022-01-12T12:03:20.917321Z",
     "shell.execute_reply": "2022-01-12T12:03:20.916653Z",
     "shell.execute_reply.started": "2022-01-12T09:48:45.360854Z"
    },
    "papermill": {
     "duration": 0.057851,
     "end_time": "2022-01-12T12:03:20.917469",
     "exception": false,
     "start_time": "2022-01-12T12:03:20.859618",
     "status": "completed"
    },
    "tags": []
   },
   "outputs": [
    {
     "name": "stdout",
     "output_type": "stream",
     "text": [
      "<class 'pandas.core.frame.DataFrame'>\n",
      "Int64Index: 18047 entries, 0 to 18109\n",
      "Data columns (total 9 columns):\n",
      " #   Column                    Non-Null Count  Dtype \n",
      "---  ------                    --------------  ----- \n",
      " 0   Sno                       18047 non-null  int64 \n",
      " 1   Date                      18047 non-null  object\n",
      " 2   Time                      18047 non-null  object\n",
      " 3   State/UnionTerritory      18047 non-null  object\n",
      " 4   ConfirmedIndianNational   18047 non-null  object\n",
      " 5   ConfirmedForeignNational  18047 non-null  object\n",
      " 6   Cured                     18047 non-null  int64 \n",
      " 7   Deaths                    18047 non-null  int64 \n",
      " 8   Confirmed                 18047 non-null  int64 \n",
      "dtypes: int64(4), object(5)\n",
      "memory usage: 1.4+ MB\n"
     ]
    }
   ],
   "source": [
    "# this is also a good way to learn if columns contain null values\n",
    "covid_df.info()"
   ]
  },
  {
   "cell_type": "code",
   "execution_count": 24,
   "id": "1499693b",
   "metadata": {
    "execution": {
     "iopub.execute_input": "2022-01-12T12:03:20.990423Z",
     "iopub.status.busy": "2022-01-12T12:03:20.989804Z",
     "iopub.status.idle": "2022-01-12T12:03:21.001127Z",
     "shell.execute_reply": "2022-01-12T12:03:21.000591Z",
     "shell.execute_reply.started": "2022-01-12T09:48:50.280006Z"
    },
    "papermill": {
     "duration": 0.049623,
     "end_time": "2022-01-12T12:03:21.001274",
     "exception": false,
     "start_time": "2022-01-12T12:03:20.951651",
     "status": "completed"
    },
    "tags": []
   },
   "outputs": [],
   "source": [
    "# adding a Date column\n",
    "covid_df[\"Date\"] = pd.to_datetime(covid_df[\"Date\"])"
   ]
  },
  {
   "cell_type": "code",
   "execution_count": 25,
   "id": "2e251bcb",
   "metadata": {
    "execution": {
     "iopub.execute_input": "2022-01-12T12:03:21.080919Z",
     "iopub.status.busy": "2022-01-12T12:03:21.080281Z",
     "iopub.status.idle": "2022-01-12T12:03:21.082304Z",
     "shell.execute_reply": "2022-01-12T12:03:21.082754Z",
     "shell.execute_reply.started": "2022-01-12T09:48:52.490459Z"
    },
    "papermill": {
     "duration": 0.04707,
     "end_time": "2022-01-12T12:03:21.082917",
     "exception": false,
     "start_time": "2022-01-12T12:03:21.035847",
     "status": "completed"
    },
    "tags": []
   },
   "outputs": [],
   "source": [
    "# adding a Month column\n",
    "covid_df[\"Month\"] = covid_df[\"Date\"].dt.month_name()"
   ]
  },
  {
   "cell_type": "code",
   "execution_count": 26,
   "id": "b1bd6783",
   "metadata": {
    "execution": {
     "iopub.execute_input": "2022-01-12T12:03:21.155648Z",
     "iopub.status.busy": "2022-01-12T12:03:21.155001Z",
     "iopub.status.idle": "2022-01-12T12:03:21.160772Z",
     "shell.execute_reply": "2022-01-12T12:03:21.160171Z",
     "shell.execute_reply.started": "2022-01-12T09:48:54.004831Z"
    },
    "papermill": {
     "duration": 0.04394,
     "end_time": "2022-01-12T12:03:21.160909",
     "exception": false,
     "start_time": "2022-01-12T12:03:21.116969",
     "status": "completed"
    },
    "tags": []
   },
   "outputs": [],
   "source": [
    "# adding a Year column\n",
    "covid_df[\"Year\"] = covid_df[\"Date\"].dt.year"
   ]
  },
  {
   "cell_type": "code",
   "execution_count": 27,
   "id": "754c3205",
   "metadata": {
    "execution": {
     "iopub.execute_input": "2022-01-12T12:03:21.234596Z",
     "iopub.status.busy": "2022-01-12T12:03:21.233986Z",
     "iopub.status.idle": "2022-01-12T12:03:21.250832Z",
     "shell.execute_reply": "2022-01-12T12:03:21.251238Z",
     "shell.execute_reply.started": "2022-01-12T09:48:56.760511Z"
    },
    "papermill": {
     "duration": 0.05656,
     "end_time": "2022-01-12T12:03:21.251401",
     "exception": false,
     "start_time": "2022-01-12T12:03:21.194841",
     "status": "completed"
    },
    "tags": []
   },
   "outputs": [
    {
     "data": {
      "text/html": [
       "<div>\n",
       "<style scoped>\n",
       "    .dataframe tbody tr th:only-of-type {\n",
       "        vertical-align: middle;\n",
       "    }\n",
       "\n",
       "    .dataframe tbody tr th {\n",
       "        vertical-align: top;\n",
       "    }\n",
       "\n",
       "    .dataframe thead th {\n",
       "        text-align: right;\n",
       "    }\n",
       "</style>\n",
       "<table border=\"1\" class=\"dataframe\">\n",
       "  <thead>\n",
       "    <tr style=\"text-align: right;\">\n",
       "      <th></th>\n",
       "      <th>Sno</th>\n",
       "      <th>Date</th>\n",
       "      <th>Time</th>\n",
       "      <th>State/UnionTerritory</th>\n",
       "      <th>ConfirmedIndianNational</th>\n",
       "      <th>ConfirmedForeignNational</th>\n",
       "      <th>Cured</th>\n",
       "      <th>Deaths</th>\n",
       "      <th>Confirmed</th>\n",
       "      <th>Month</th>\n",
       "      <th>Year</th>\n",
       "    </tr>\n",
       "  </thead>\n",
       "  <tbody>\n",
       "    <tr>\n",
       "      <th>0</th>\n",
       "      <td>1</td>\n",
       "      <td>2020-01-30</td>\n",
       "      <td>6:00 PM</td>\n",
       "      <td>Kerala</td>\n",
       "      <td>1</td>\n",
       "      <td>0</td>\n",
       "      <td>0</td>\n",
       "      <td>0</td>\n",
       "      <td>1</td>\n",
       "      <td>January</td>\n",
       "      <td>2020</td>\n",
       "    </tr>\n",
       "    <tr>\n",
       "      <th>1</th>\n",
       "      <td>2</td>\n",
       "      <td>2020-01-31</td>\n",
       "      <td>6:00 PM</td>\n",
       "      <td>Kerala</td>\n",
       "      <td>1</td>\n",
       "      <td>0</td>\n",
       "      <td>0</td>\n",
       "      <td>0</td>\n",
       "      <td>1</td>\n",
       "      <td>January</td>\n",
       "      <td>2020</td>\n",
       "    </tr>\n",
       "    <tr>\n",
       "      <th>2</th>\n",
       "      <td>3</td>\n",
       "      <td>2020-02-01</td>\n",
       "      <td>6:00 PM</td>\n",
       "      <td>Kerala</td>\n",
       "      <td>2</td>\n",
       "      <td>0</td>\n",
       "      <td>0</td>\n",
       "      <td>0</td>\n",
       "      <td>2</td>\n",
       "      <td>February</td>\n",
       "      <td>2020</td>\n",
       "    </tr>\n",
       "    <tr>\n",
       "      <th>3</th>\n",
       "      <td>4</td>\n",
       "      <td>2020-02-02</td>\n",
       "      <td>6:00 PM</td>\n",
       "      <td>Kerala</td>\n",
       "      <td>3</td>\n",
       "      <td>0</td>\n",
       "      <td>0</td>\n",
       "      <td>0</td>\n",
       "      <td>3</td>\n",
       "      <td>February</td>\n",
       "      <td>2020</td>\n",
       "    </tr>\n",
       "    <tr>\n",
       "      <th>4</th>\n",
       "      <td>5</td>\n",
       "      <td>2020-02-03</td>\n",
       "      <td>6:00 PM</td>\n",
       "      <td>Kerala</td>\n",
       "      <td>3</td>\n",
       "      <td>0</td>\n",
       "      <td>0</td>\n",
       "      <td>0</td>\n",
       "      <td>3</td>\n",
       "      <td>February</td>\n",
       "      <td>2020</td>\n",
       "    </tr>\n",
       "    <tr>\n",
       "      <th>...</th>\n",
       "      <td>...</td>\n",
       "      <td>...</td>\n",
       "      <td>...</td>\n",
       "      <td>...</td>\n",
       "      <td>...</td>\n",
       "      <td>...</td>\n",
       "      <td>...</td>\n",
       "      <td>...</td>\n",
       "      <td>...</td>\n",
       "      <td>...</td>\n",
       "      <td>...</td>\n",
       "    </tr>\n",
       "    <tr>\n",
       "      <th>18105</th>\n",
       "      <td>18106</td>\n",
       "      <td>2021-08-11</td>\n",
       "      <td>8:00 AM</td>\n",
       "      <td>Telangana</td>\n",
       "      <td>-</td>\n",
       "      <td>-</td>\n",
       "      <td>638410</td>\n",
       "      <td>3831</td>\n",
       "      <td>650353</td>\n",
       "      <td>August</td>\n",
       "      <td>2021</td>\n",
       "    </tr>\n",
       "    <tr>\n",
       "      <th>18106</th>\n",
       "      <td>18107</td>\n",
       "      <td>2021-08-11</td>\n",
       "      <td>8:00 AM</td>\n",
       "      <td>Tripura</td>\n",
       "      <td>-</td>\n",
       "      <td>-</td>\n",
       "      <td>77811</td>\n",
       "      <td>773</td>\n",
       "      <td>80660</td>\n",
       "      <td>August</td>\n",
       "      <td>2021</td>\n",
       "    </tr>\n",
       "    <tr>\n",
       "      <th>18107</th>\n",
       "      <td>18108</td>\n",
       "      <td>2021-08-11</td>\n",
       "      <td>8:00 AM</td>\n",
       "      <td>Uttarakhand</td>\n",
       "      <td>-</td>\n",
       "      <td>-</td>\n",
       "      <td>334650</td>\n",
       "      <td>7368</td>\n",
       "      <td>342462</td>\n",
       "      <td>August</td>\n",
       "      <td>2021</td>\n",
       "    </tr>\n",
       "    <tr>\n",
       "      <th>18108</th>\n",
       "      <td>18109</td>\n",
       "      <td>2021-08-11</td>\n",
       "      <td>8:00 AM</td>\n",
       "      <td>Uttar Pradesh</td>\n",
       "      <td>-</td>\n",
       "      <td>-</td>\n",
       "      <td>1685492</td>\n",
       "      <td>22775</td>\n",
       "      <td>1708812</td>\n",
       "      <td>August</td>\n",
       "      <td>2021</td>\n",
       "    </tr>\n",
       "    <tr>\n",
       "      <th>18109</th>\n",
       "      <td>18110</td>\n",
       "      <td>2021-08-11</td>\n",
       "      <td>8:00 AM</td>\n",
       "      <td>West Bengal</td>\n",
       "      <td>-</td>\n",
       "      <td>-</td>\n",
       "      <td>1506532</td>\n",
       "      <td>18252</td>\n",
       "      <td>1534999</td>\n",
       "      <td>August</td>\n",
       "      <td>2021</td>\n",
       "    </tr>\n",
       "  </tbody>\n",
       "</table>\n",
       "<p>18047 rows × 11 columns</p>\n",
       "</div>"
      ],
      "text/plain": [
       "         Sno       Date     Time State/UnionTerritory ConfirmedIndianNational  \\\n",
       "0          1 2020-01-30  6:00 PM               Kerala                       1   \n",
       "1          2 2020-01-31  6:00 PM               Kerala                       1   \n",
       "2          3 2020-02-01  6:00 PM               Kerala                       2   \n",
       "3          4 2020-02-02  6:00 PM               Kerala                       3   \n",
       "4          5 2020-02-03  6:00 PM               Kerala                       3   \n",
       "...      ...        ...      ...                  ...                     ...   \n",
       "18105  18106 2021-08-11  8:00 AM            Telangana                       -   \n",
       "18106  18107 2021-08-11  8:00 AM              Tripura                       -   \n",
       "18107  18108 2021-08-11  8:00 AM          Uttarakhand                       -   \n",
       "18108  18109 2021-08-11  8:00 AM        Uttar Pradesh                       -   \n",
       "18109  18110 2021-08-11  8:00 AM          West Bengal                       -   \n",
       "\n",
       "      ConfirmedForeignNational    Cured  Deaths  Confirmed     Month  Year  \n",
       "0                            0        0       0          1   January  2020  \n",
       "1                            0        0       0          1   January  2020  \n",
       "2                            0        0       0          2  February  2020  \n",
       "3                            0        0       0          3  February  2020  \n",
       "4                            0        0       0          3  February  2020  \n",
       "...                        ...      ...     ...        ...       ...   ...  \n",
       "18105                        -   638410    3831     650353    August  2021  \n",
       "18106                        -    77811     773      80660    August  2021  \n",
       "18107                        -   334650    7368     342462    August  2021  \n",
       "18108                        -  1685492   22775    1708812    August  2021  \n",
       "18109                        -  1506532   18252    1534999    August  2021  \n",
       "\n",
       "[18047 rows x 11 columns]"
      ]
     },
     "execution_count": 27,
     "metadata": {},
     "output_type": "execute_result"
    }
   ],
   "source": [
    "# checking out the dataframe with added columns\n",
    "covid_df"
   ]
  },
  {
   "cell_type": "markdown",
   "id": "ca6c6a63",
   "metadata": {
    "papermill": {
     "duration": 0.034609,
     "end_time": "2022-01-12T12:03:21.320455",
     "exception": false,
     "start_time": "2022-01-12T12:03:21.285846",
     "status": "completed"
    },
    "tags": []
   },
   "source": [
    "## Descriptive Analysis\n",
    "As you can see below, the last data recorded in this dataset was on 11th August, 2021. So, the following analysis is valid till the mentioned date."
   ]
  },
  {
   "cell_type": "code",
   "execution_count": 28,
   "id": "44419fab",
   "metadata": {
    "execution": {
     "iopub.execute_input": "2022-01-12T12:03:21.392405Z",
     "iopub.status.busy": "2022-01-12T12:03:21.391820Z",
     "iopub.status.idle": "2022-01-12T12:03:21.396602Z",
     "shell.execute_reply": "2022-01-12T12:03:21.397075Z",
     "shell.execute_reply.started": "2022-01-12T09:49:02.975343Z"
    },
    "papermill": {
     "duration": 0.042512,
     "end_time": "2022-01-12T12:03:21.397247",
     "exception": false,
     "start_time": "2022-01-12T12:03:21.354735",
     "status": "completed"
    },
    "tags": []
   },
   "outputs": [
    {
     "data": {
      "text/plain": [
       "Timestamp('2021-08-11 00:00:00')"
      ]
     },
     "execution_count": 28,
     "metadata": {},
     "output_type": "execute_result"
    }
   ],
   "source": [
    "covid_df[\"Date\"].max()"
   ]
  },
  {
   "cell_type": "code",
   "execution_count": 29,
   "id": "a5805f55",
   "metadata": {
    "execution": {
     "iopub.execute_input": "2022-01-12T12:03:21.473187Z",
     "iopub.status.busy": "2022-01-12T12:03:21.472550Z",
     "iopub.status.idle": "2022-01-12T12:03:21.479482Z",
     "shell.execute_reply": "2022-01-12T12:03:21.478959Z",
     "shell.execute_reply.started": "2022-01-12T09:49:06.24535Z"
    },
    "papermill": {
     "duration": 0.04782,
     "end_time": "2022-01-12T12:03:21.479650",
     "exception": false,
     "start_time": "2022-01-12T12:03:21.431830",
     "status": "completed"
    },
    "tags": []
   },
   "outputs": [],
   "source": [
    "# find the total confirmed cases in each state\n",
    "total_confirmed = covid_df.groupby(\"State/UnionTerritory\")[\"Confirmed\"].aggregate(max)"
   ]
  },
  {
   "cell_type": "code",
   "execution_count": 30,
   "id": "e872d02b",
   "metadata": {
    "execution": {
     "iopub.execute_input": "2022-01-12T12:03:21.553178Z",
     "iopub.status.busy": "2022-01-12T12:03:21.552231Z",
     "iopub.status.idle": "2022-01-12T12:03:21.558302Z",
     "shell.execute_reply": "2022-01-12T12:03:21.558771Z",
     "shell.execute_reply.started": "2022-01-12T09:49:09.366249Z"
    },
    "papermill": {
     "duration": 0.044462,
     "end_time": "2022-01-12T12:03:21.558938",
     "exception": false,
     "start_time": "2022-01-12T12:03:21.514476",
     "status": "completed"
    },
    "tags": []
   },
   "outputs": [
    {
     "data": {
      "text/plain": [
       "State/UnionTerritory\n",
       "Andaman and Nicobar Islands       7548\n",
       "Andhra Pradesh                 1985182\n",
       "Arunachal Pradesh                50605\n",
       "Assam                           576149\n",
       "Bihar                           725279\n",
       "Chandigarh                       61992\n",
       "Chhattisgarh                   1003356\n",
       "Dadra and Nagar Haveli           10654\n",
       "Daman & Diu                          2\n",
       "Delhi                          1436852\n",
       "Goa                             172085\n",
       "Gujarat                         825085\n",
       "Haryana                         770114\n",
       "Himachal Pradesh                208616\n",
       "Jammu and Kashmir               322771\n",
       "Jharkhand                       347440\n",
       "Karnataka                      2921049\n",
       "Kerala                         3586693\n",
       "Ladakh                           20411\n",
       "Lakshadweep                      10263\n",
       "Madhya Pradesh                  791980\n",
       "Maharashtra                    6363442\n",
       "Manipur                         105424\n",
       "Meghalaya                        69769\n",
       "Mizoram                          46320\n",
       "Nagaland                         28811\n",
       "Odisha                          988997\n",
       "Puducherry                      121766\n",
       "Punjab                          599573\n",
       "Rajasthan                       953851\n",
       "Sikkim                           28018\n",
       "Tamil Nadu                     2579130\n",
       "Telangana                       650353\n",
       "Tripura                          80660\n",
       "Uttar Pradesh                  1708812\n",
       "Uttarakhand                     342462\n",
       "West Bengal                    1534999\n",
       "Name: Confirmed, dtype: int64"
      ]
     },
     "execution_count": 30,
     "metadata": {},
     "output_type": "execute_result"
    }
   ],
   "source": [
    "total_confirmed"
   ]
  },
  {
   "cell_type": "code",
   "execution_count": 31,
   "id": "4a19565a",
   "metadata": {
    "execution": {
     "iopub.execute_input": "2022-01-12T12:03:21.635842Z",
     "iopub.status.busy": "2022-01-12T12:03:21.634957Z",
     "iopub.status.idle": "2022-01-12T12:03:21.639344Z",
     "shell.execute_reply": "2022-01-12T12:03:21.638854Z",
     "shell.execute_reply.started": "2022-01-12T09:49:13.601208Z"
    },
    "papermill": {
     "duration": 0.045638,
     "end_time": "2022-01-12T12:03:21.639473",
     "exception": false,
     "start_time": "2022-01-12T12:03:21.593835",
     "status": "completed"
    },
    "tags": []
   },
   "outputs": [],
   "source": [
    "# find the total death cases in each state\n",
    "total_deaths = covid_df.groupby(\"State/UnionTerritory\")[\"Deaths\"].max()"
   ]
  },
  {
   "cell_type": "code",
   "execution_count": 32,
   "id": "1cac7379",
   "metadata": {
    "execution": {
     "iopub.execute_input": "2022-01-12T12:03:21.716085Z",
     "iopub.status.busy": "2022-01-12T12:03:21.715387Z",
     "iopub.status.idle": "2022-01-12T12:03:21.717838Z",
     "shell.execute_reply": "2022-01-12T12:03:21.718265Z",
     "shell.execute_reply.started": "2022-01-12T09:49:15.634283Z"
    },
    "papermill": {
     "duration": 0.043982,
     "end_time": "2022-01-12T12:03:21.718419",
     "exception": false,
     "start_time": "2022-01-12T12:03:21.674437",
     "status": "completed"
    },
    "tags": []
   },
   "outputs": [
    {
     "data": {
      "text/plain": [
       "State/UnionTerritory\n",
       "Andaman and Nicobar Islands       129\n",
       "Andhra Pradesh                  13564\n",
       "Arunachal Pradesh                 248\n",
       "Assam                            5420\n",
       "Bihar                            9646\n",
       "Chandigarh                        811\n",
       "Chhattisgarh                    13544\n",
       "Dadra and Nagar Haveli              4\n",
       "Daman & Diu                         0\n",
       "Delhi                           25068\n",
       "Goa                              3164\n",
       "Gujarat                         10077\n",
       "Haryana                          9652\n",
       "Himachal Pradesh                 3537\n",
       "Jammu and Kashmir                4392\n",
       "Jharkhand                        5130\n",
       "Karnataka                       36848\n",
       "Kerala                          18004\n",
       "Ladakh                            207\n",
       "Lakshadweep                        51\n",
       "Madhya Pradesh                  10514\n",
       "Maharashtra                    134201\n",
       "Manipur                          1664\n",
       "Meghalaya                        1185\n",
       "Mizoram                           171\n",
       "Nagaland                          585\n",
       "Odisha                           6565\n",
       "Puducherry                       1800\n",
       "Punjab                          16322\n",
       "Rajasthan                        8954\n",
       "Sikkim                            356\n",
       "Tamil Nadu                      34367\n",
       "Telangana                        3831\n",
       "Tripura                           773\n",
       "Uttar Pradesh                   22775\n",
       "Uttarakhand                      7368\n",
       "West Bengal                     18252\n",
       "Name: Deaths, dtype: int64"
      ]
     },
     "execution_count": 32,
     "metadata": {},
     "output_type": "execute_result"
    }
   ],
   "source": [
    "total_deaths"
   ]
  },
  {
   "cell_type": "code",
   "execution_count": 33,
   "id": "c6ef2856",
   "metadata": {
    "execution": {
     "iopub.execute_input": "2022-01-12T12:03:21.795586Z",
     "iopub.status.busy": "2022-01-12T12:03:21.794705Z",
     "iopub.status.idle": "2022-01-12T12:03:21.798133Z",
     "shell.execute_reply": "2022-01-12T12:03:21.798545Z",
     "shell.execute_reply.started": "2022-01-12T09:49:19.784451Z"
    },
    "papermill": {
     "duration": 0.045121,
     "end_time": "2022-01-12T12:03:21.798721",
     "exception": false,
     "start_time": "2022-01-12T12:03:21.753600",
     "status": "completed"
    },
    "tags": []
   },
   "outputs": [],
   "source": [
    "# find the total cured cases in each state\n",
    "total_cured = covid_df.groupby(\"State/UnionTerritory\")[\"Cured\"].max()"
   ]
  },
  {
   "cell_type": "code",
   "execution_count": 34,
   "id": "ac74b4cc",
   "metadata": {
    "execution": {
     "iopub.execute_input": "2022-01-12T12:03:21.878022Z",
     "iopub.status.busy": "2022-01-12T12:03:21.877417Z",
     "iopub.status.idle": "2022-01-12T12:03:21.879966Z",
     "shell.execute_reply": "2022-01-12T12:03:21.880473Z",
     "shell.execute_reply.started": "2022-01-12T09:49:22.674571Z"
    },
    "papermill": {
     "duration": 0.04522,
     "end_time": "2022-01-12T12:03:21.880645",
     "exception": false,
     "start_time": "2022-01-12T12:03:21.835425",
     "status": "completed"
    },
    "tags": []
   },
   "outputs": [
    {
     "data": {
      "text/plain": [
       "State/UnionTerritory\n",
       "Andaman and Nicobar Islands       7412\n",
       "Andhra Pradesh                 1952736\n",
       "Arunachal Pradesh                47821\n",
       "Assam                           559684\n",
       "Bihar                           715352\n",
       "Chandigarh                       61150\n",
       "Chhattisgarh                    988189\n",
       "Dadra and Nagar Haveli           10646\n",
       "Daman & Diu                          0\n",
       "Delhi                          1411280\n",
       "Goa                             167978\n",
       "Gujarat                         814802\n",
       "Haryana                         759790\n",
       "Himachal Pradesh                202761\n",
       "Jammu and Kashmir               317081\n",
       "Jharkhand                       342102\n",
       "Karnataka                      2861499\n",
       "Kerala                         3396184\n",
       "Ladakh                           20130\n",
       "Lakshadweep                      10165\n",
       "Madhya Pradesh                  781330\n",
       "Maharashtra                    6159676\n",
       "Manipur                          96776\n",
       "Meghalaya                        64157\n",
       "Mizoram                          33722\n",
       "Nagaland                         26852\n",
       "Odisha                          972710\n",
       "Puducherry                      119115\n",
       "Punjab                          582791\n",
       "Rajasthan                       944700\n",
       "Sikkim                           25095\n",
       "Tamil Nadu                     2524400\n",
       "Telangana                       638410\n",
       "Tripura                          77811\n",
       "Uttar Pradesh                  1685492\n",
       "Uttarakhand                     334650\n",
       "West Bengal                    1506532\n",
       "Name: Cured, dtype: int64"
      ]
     },
     "execution_count": 34,
     "metadata": {},
     "output_type": "execute_result"
    }
   ],
   "source": [
    "total_cured"
   ]
  },
  {
   "cell_type": "code",
   "execution_count": 35,
   "id": "585a9ea9",
   "metadata": {
    "execution": {
     "iopub.execute_input": "2022-01-12T12:03:21.955312Z",
     "iopub.status.busy": "2022-01-12T12:03:21.954759Z",
     "iopub.status.idle": "2022-01-12T12:03:21.969366Z",
     "shell.execute_reply": "2022-01-12T12:03:21.969834Z",
     "shell.execute_reply.started": "2022-01-12T09:49:34.659402Z"
    },
    "papermill": {
     "duration": 0.053849,
     "end_time": "2022-01-12T12:03:21.970000",
     "exception": false,
     "start_time": "2022-01-12T12:03:21.916151",
     "status": "completed"
    },
    "tags": []
   },
   "outputs": [
    {
     "name": "stderr",
     "output_type": "stream",
     "text": [
      "C:\\Users\\91878\\AppData\\Local\\Temp/ipykernel_13832/2913830497.py:2: FutureWarning: Indexing with multiple keys (implicitly converted to a tuple of keys) will be deprecated, use a list instead.\n",
      "  total_cases = covid_df.groupby(\"State/UnionTerritory\")[\"Confirmed\", \"Cured\", \"Deaths\"].aggregate(max)\n"
     ]
    }
   ],
   "source": [
    "# aggregating the cases in one dataframe\n",
    "total_cases = covid_df.groupby(\"State/UnionTerritory\")[\"Confirmed\", \"Cured\", \"Deaths\"].aggregate(max)"
   ]
  },
  {
   "cell_type": "code",
   "execution_count": 36,
   "id": "ba64253d",
   "metadata": {
    "execution": {
     "iopub.execute_input": "2022-01-12T12:03:22.046926Z",
     "iopub.status.busy": "2022-01-12T12:03:22.046341Z",
     "iopub.status.idle": "2022-01-12T12:03:22.055543Z",
     "shell.execute_reply": "2022-01-12T12:03:22.055986Z",
     "shell.execute_reply.started": "2022-01-12T10:55:32.691493Z"
    },
    "papermill": {
     "duration": 0.050248,
     "end_time": "2022-01-12T12:03:22.056139",
     "exception": false,
     "start_time": "2022-01-12T12:03:22.005891",
     "status": "completed"
    },
    "tags": []
   },
   "outputs": [
    {
     "data": {
      "text/html": [
       "<div>\n",
       "<style scoped>\n",
       "    .dataframe tbody tr th:only-of-type {\n",
       "        vertical-align: middle;\n",
       "    }\n",
       "\n",
       "    .dataframe tbody tr th {\n",
       "        vertical-align: top;\n",
       "    }\n",
       "\n",
       "    .dataframe thead th {\n",
       "        text-align: right;\n",
       "    }\n",
       "</style>\n",
       "<table border=\"1\" class=\"dataframe\">\n",
       "  <thead>\n",
       "    <tr style=\"text-align: right;\">\n",
       "      <th></th>\n",
       "      <th>Confirmed</th>\n",
       "      <th>Cured</th>\n",
       "      <th>Deaths</th>\n",
       "    </tr>\n",
       "    <tr>\n",
       "      <th>State/UnionTerritory</th>\n",
       "      <th></th>\n",
       "      <th></th>\n",
       "      <th></th>\n",
       "    </tr>\n",
       "  </thead>\n",
       "  <tbody>\n",
       "    <tr>\n",
       "      <th>Andaman and Nicobar Islands</th>\n",
       "      <td>7548</td>\n",
       "      <td>7412</td>\n",
       "      <td>129</td>\n",
       "    </tr>\n",
       "    <tr>\n",
       "      <th>Andhra Pradesh</th>\n",
       "      <td>1985182</td>\n",
       "      <td>1952736</td>\n",
       "      <td>13564</td>\n",
       "    </tr>\n",
       "    <tr>\n",
       "      <th>Arunachal Pradesh</th>\n",
       "      <td>50605</td>\n",
       "      <td>47821</td>\n",
       "      <td>248</td>\n",
       "    </tr>\n",
       "    <tr>\n",
       "      <th>Assam</th>\n",
       "      <td>576149</td>\n",
       "      <td>559684</td>\n",
       "      <td>5420</td>\n",
       "    </tr>\n",
       "    <tr>\n",
       "      <th>Bihar</th>\n",
       "      <td>725279</td>\n",
       "      <td>715352</td>\n",
       "      <td>9646</td>\n",
       "    </tr>\n",
       "    <tr>\n",
       "      <th>Chandigarh</th>\n",
       "      <td>61992</td>\n",
       "      <td>61150</td>\n",
       "      <td>811</td>\n",
       "    </tr>\n",
       "    <tr>\n",
       "      <th>Chhattisgarh</th>\n",
       "      <td>1003356</td>\n",
       "      <td>988189</td>\n",
       "      <td>13544</td>\n",
       "    </tr>\n",
       "    <tr>\n",
       "      <th>Dadra and Nagar Haveli</th>\n",
       "      <td>10654</td>\n",
       "      <td>10646</td>\n",
       "      <td>4</td>\n",
       "    </tr>\n",
       "    <tr>\n",
       "      <th>Daman &amp; Diu</th>\n",
       "      <td>2</td>\n",
       "      <td>0</td>\n",
       "      <td>0</td>\n",
       "    </tr>\n",
       "    <tr>\n",
       "      <th>Delhi</th>\n",
       "      <td>1436852</td>\n",
       "      <td>1411280</td>\n",
       "      <td>25068</td>\n",
       "    </tr>\n",
       "    <tr>\n",
       "      <th>Goa</th>\n",
       "      <td>172085</td>\n",
       "      <td>167978</td>\n",
       "      <td>3164</td>\n",
       "    </tr>\n",
       "    <tr>\n",
       "      <th>Gujarat</th>\n",
       "      <td>825085</td>\n",
       "      <td>814802</td>\n",
       "      <td>10077</td>\n",
       "    </tr>\n",
       "    <tr>\n",
       "      <th>Haryana</th>\n",
       "      <td>770114</td>\n",
       "      <td>759790</td>\n",
       "      <td>9652</td>\n",
       "    </tr>\n",
       "    <tr>\n",
       "      <th>Himachal Pradesh</th>\n",
       "      <td>208616</td>\n",
       "      <td>202761</td>\n",
       "      <td>3537</td>\n",
       "    </tr>\n",
       "    <tr>\n",
       "      <th>Jammu and Kashmir</th>\n",
       "      <td>322771</td>\n",
       "      <td>317081</td>\n",
       "      <td>4392</td>\n",
       "    </tr>\n",
       "    <tr>\n",
       "      <th>Jharkhand</th>\n",
       "      <td>347440</td>\n",
       "      <td>342102</td>\n",
       "      <td>5130</td>\n",
       "    </tr>\n",
       "    <tr>\n",
       "      <th>Karnataka</th>\n",
       "      <td>2921049</td>\n",
       "      <td>2861499</td>\n",
       "      <td>36848</td>\n",
       "    </tr>\n",
       "    <tr>\n",
       "      <th>Kerala</th>\n",
       "      <td>3586693</td>\n",
       "      <td>3396184</td>\n",
       "      <td>18004</td>\n",
       "    </tr>\n",
       "    <tr>\n",
       "      <th>Ladakh</th>\n",
       "      <td>20411</td>\n",
       "      <td>20130</td>\n",
       "      <td>207</td>\n",
       "    </tr>\n",
       "    <tr>\n",
       "      <th>Lakshadweep</th>\n",
       "      <td>10263</td>\n",
       "      <td>10165</td>\n",
       "      <td>51</td>\n",
       "    </tr>\n",
       "    <tr>\n",
       "      <th>Madhya Pradesh</th>\n",
       "      <td>791980</td>\n",
       "      <td>781330</td>\n",
       "      <td>10514</td>\n",
       "    </tr>\n",
       "    <tr>\n",
       "      <th>Maharashtra</th>\n",
       "      <td>6363442</td>\n",
       "      <td>6159676</td>\n",
       "      <td>134201</td>\n",
       "    </tr>\n",
       "    <tr>\n",
       "      <th>Manipur</th>\n",
       "      <td>105424</td>\n",
       "      <td>96776</td>\n",
       "      <td>1664</td>\n",
       "    </tr>\n",
       "    <tr>\n",
       "      <th>Meghalaya</th>\n",
       "      <td>69769</td>\n",
       "      <td>64157</td>\n",
       "      <td>1185</td>\n",
       "    </tr>\n",
       "    <tr>\n",
       "      <th>Mizoram</th>\n",
       "      <td>46320</td>\n",
       "      <td>33722</td>\n",
       "      <td>171</td>\n",
       "    </tr>\n",
       "    <tr>\n",
       "      <th>Nagaland</th>\n",
       "      <td>28811</td>\n",
       "      <td>26852</td>\n",
       "      <td>585</td>\n",
       "    </tr>\n",
       "    <tr>\n",
       "      <th>Odisha</th>\n",
       "      <td>988997</td>\n",
       "      <td>972710</td>\n",
       "      <td>6565</td>\n",
       "    </tr>\n",
       "    <tr>\n",
       "      <th>Puducherry</th>\n",
       "      <td>121766</td>\n",
       "      <td>119115</td>\n",
       "      <td>1800</td>\n",
       "    </tr>\n",
       "    <tr>\n",
       "      <th>Punjab</th>\n",
       "      <td>599573</td>\n",
       "      <td>582791</td>\n",
       "      <td>16322</td>\n",
       "    </tr>\n",
       "    <tr>\n",
       "      <th>Rajasthan</th>\n",
       "      <td>953851</td>\n",
       "      <td>944700</td>\n",
       "      <td>8954</td>\n",
       "    </tr>\n",
       "    <tr>\n",
       "      <th>Sikkim</th>\n",
       "      <td>28018</td>\n",
       "      <td>25095</td>\n",
       "      <td>356</td>\n",
       "    </tr>\n",
       "    <tr>\n",
       "      <th>Tamil Nadu</th>\n",
       "      <td>2579130</td>\n",
       "      <td>2524400</td>\n",
       "      <td>34367</td>\n",
       "    </tr>\n",
       "    <tr>\n",
       "      <th>Telangana</th>\n",
       "      <td>650353</td>\n",
       "      <td>638410</td>\n",
       "      <td>3831</td>\n",
       "    </tr>\n",
       "    <tr>\n",
       "      <th>Tripura</th>\n",
       "      <td>80660</td>\n",
       "      <td>77811</td>\n",
       "      <td>773</td>\n",
       "    </tr>\n",
       "    <tr>\n",
       "      <th>Uttar Pradesh</th>\n",
       "      <td>1708812</td>\n",
       "      <td>1685492</td>\n",
       "      <td>22775</td>\n",
       "    </tr>\n",
       "    <tr>\n",
       "      <th>Uttarakhand</th>\n",
       "      <td>342462</td>\n",
       "      <td>334650</td>\n",
       "      <td>7368</td>\n",
       "    </tr>\n",
       "    <tr>\n",
       "      <th>West Bengal</th>\n",
       "      <td>1534999</td>\n",
       "      <td>1506532</td>\n",
       "      <td>18252</td>\n",
       "    </tr>\n",
       "  </tbody>\n",
       "</table>\n",
       "</div>"
      ],
      "text/plain": [
       "                             Confirmed    Cured  Deaths\n",
       "State/UnionTerritory                                   \n",
       "Andaman and Nicobar Islands       7548     7412     129\n",
       "Andhra Pradesh                 1985182  1952736   13564\n",
       "Arunachal Pradesh                50605    47821     248\n",
       "Assam                           576149   559684    5420\n",
       "Bihar                           725279   715352    9646\n",
       "Chandigarh                       61992    61150     811\n",
       "Chhattisgarh                   1003356   988189   13544\n",
       "Dadra and Nagar Haveli           10654    10646       4\n",
       "Daman & Diu                          2        0       0\n",
       "Delhi                          1436852  1411280   25068\n",
       "Goa                             172085   167978    3164\n",
       "Gujarat                         825085   814802   10077\n",
       "Haryana                         770114   759790    9652\n",
       "Himachal Pradesh                208616   202761    3537\n",
       "Jammu and Kashmir               322771   317081    4392\n",
       "Jharkhand                       347440   342102    5130\n",
       "Karnataka                      2921049  2861499   36848\n",
       "Kerala                         3586693  3396184   18004\n",
       "Ladakh                           20411    20130     207\n",
       "Lakshadweep                      10263    10165      51\n",
       "Madhya Pradesh                  791980   781330   10514\n",
       "Maharashtra                    6363442  6159676  134201\n",
       "Manipur                         105424    96776    1664\n",
       "Meghalaya                        69769    64157    1185\n",
       "Mizoram                          46320    33722     171\n",
       "Nagaland                         28811    26852     585\n",
       "Odisha                          988997   972710    6565\n",
       "Puducherry                      121766   119115    1800\n",
       "Punjab                          599573   582791   16322\n",
       "Rajasthan                       953851   944700    8954\n",
       "Sikkim                           28018    25095     356\n",
       "Tamil Nadu                     2579130  2524400   34367\n",
       "Telangana                       650353   638410    3831\n",
       "Tripura                          80660    77811     773\n",
       "Uttar Pradesh                  1708812  1685492   22775\n",
       "Uttarakhand                     342462   334650    7368\n",
       "West Bengal                    1534999  1506532   18252"
      ]
     },
     "execution_count": 36,
     "metadata": {},
     "output_type": "execute_result"
    }
   ],
   "source": [
    "total_cases"
   ]
  },
  {
   "cell_type": "markdown",
   "id": "3423a38f",
   "metadata": {
    "papermill": {
     "duration": 0.036693,
     "end_time": "2022-01-12T12:03:22.129399",
     "exception": false,
     "start_time": "2022-01-12T12:03:22.092706",
     "status": "completed"
    },
    "tags": []
   },
   "source": [
    "Having a look at the top 5 states in each category:"
   ]
  },
  {
   "cell_type": "code",
   "execution_count": 37,
   "id": "b1266d5d",
   "metadata": {
    "execution": {
     "iopub.execute_input": "2022-01-12T12:03:22.205591Z",
     "iopub.status.busy": "2022-01-12T12:03:22.204994Z",
     "iopub.status.idle": "2022-01-12T12:03:22.210127Z",
     "shell.execute_reply": "2022-01-12T12:03:22.210616Z",
     "shell.execute_reply.started": "2022-01-12T10:56:45.860993Z"
    },
    "papermill": {
     "duration": 0.044783,
     "end_time": "2022-01-12T12:03:22.210776",
     "exception": false,
     "start_time": "2022-01-12T12:03:22.165993",
     "status": "completed"
    },
    "tags": []
   },
   "outputs": [],
   "source": [
    "top_confirmed = total_cases.sort_values(\"Confirmed\", ascending = False).iloc[0:5]\n",
    "top_cured = total_cases.sort_values(\"Cured\", ascending = False).iloc[0:5]\n",
    "top_deaths = total_cases.sort_values(\"Deaths\", ascending = False).iloc[0:5]"
   ]
  },
  {
   "cell_type": "code",
   "execution_count": 38,
   "id": "c0be7876",
   "metadata": {
    "execution": {
     "iopub.execute_input": "2022-01-12T12:03:22.286926Z",
     "iopub.status.busy": "2022-01-12T12:03:22.286320Z",
     "iopub.status.idle": "2022-01-12T12:03:22.293867Z",
     "shell.execute_reply": "2022-01-12T12:03:22.294304Z",
     "shell.execute_reply.started": "2022-01-12T10:57:23.0203Z"
    },
    "papermill": {
     "duration": 0.047231,
     "end_time": "2022-01-12T12:03:22.294462",
     "exception": false,
     "start_time": "2022-01-12T12:03:22.247231",
     "status": "completed"
    },
    "tags": []
   },
   "outputs": [
    {
     "data": {
      "text/html": [
       "<div>\n",
       "<style scoped>\n",
       "    .dataframe tbody tr th:only-of-type {\n",
       "        vertical-align: middle;\n",
       "    }\n",
       "\n",
       "    .dataframe tbody tr th {\n",
       "        vertical-align: top;\n",
       "    }\n",
       "\n",
       "    .dataframe thead th {\n",
       "        text-align: right;\n",
       "    }\n",
       "</style>\n",
       "<table border=\"1\" class=\"dataframe\">\n",
       "  <thead>\n",
       "    <tr style=\"text-align: right;\">\n",
       "      <th></th>\n",
       "      <th>Confirmed</th>\n",
       "      <th>Cured</th>\n",
       "      <th>Deaths</th>\n",
       "    </tr>\n",
       "    <tr>\n",
       "      <th>State/UnionTerritory</th>\n",
       "      <th></th>\n",
       "      <th></th>\n",
       "      <th></th>\n",
       "    </tr>\n",
       "  </thead>\n",
       "  <tbody>\n",
       "    <tr>\n",
       "      <th>Maharashtra</th>\n",
       "      <td>6363442</td>\n",
       "      <td>6159676</td>\n",
       "      <td>134201</td>\n",
       "    </tr>\n",
       "    <tr>\n",
       "      <th>Kerala</th>\n",
       "      <td>3586693</td>\n",
       "      <td>3396184</td>\n",
       "      <td>18004</td>\n",
       "    </tr>\n",
       "    <tr>\n",
       "      <th>Karnataka</th>\n",
       "      <td>2921049</td>\n",
       "      <td>2861499</td>\n",
       "      <td>36848</td>\n",
       "    </tr>\n",
       "    <tr>\n",
       "      <th>Tamil Nadu</th>\n",
       "      <td>2579130</td>\n",
       "      <td>2524400</td>\n",
       "      <td>34367</td>\n",
       "    </tr>\n",
       "    <tr>\n",
       "      <th>Andhra Pradesh</th>\n",
       "      <td>1985182</td>\n",
       "      <td>1952736</td>\n",
       "      <td>13564</td>\n",
       "    </tr>\n",
       "  </tbody>\n",
       "</table>\n",
       "</div>"
      ],
      "text/plain": [
       "                      Confirmed    Cured  Deaths\n",
       "State/UnionTerritory                            \n",
       "Maharashtra             6363442  6159676  134201\n",
       "Kerala                  3586693  3396184   18004\n",
       "Karnataka               2921049  2861499   36848\n",
       "Tamil Nadu              2579130  2524400   34367\n",
       "Andhra Pradesh          1985182  1952736   13564"
      ]
     },
     "execution_count": 38,
     "metadata": {},
     "output_type": "execute_result"
    }
   ],
   "source": [
    "top_confirmed"
   ]
  },
  {
   "cell_type": "code",
   "execution_count": 39,
   "id": "ce98cfbb",
   "metadata": {
    "execution": {
     "iopub.execute_input": "2022-01-12T12:03:22.371515Z",
     "iopub.status.busy": "2022-01-12T12:03:22.370872Z",
     "iopub.status.idle": "2022-01-12T12:03:22.378735Z",
     "shell.execute_reply": "2022-01-12T12:03:22.379194Z",
     "shell.execute_reply.started": "2022-01-12T10:57:03.635983Z"
    },
    "papermill": {
     "duration": 0.048092,
     "end_time": "2022-01-12T12:03:22.379356",
     "exception": false,
     "start_time": "2022-01-12T12:03:22.331264",
     "status": "completed"
    },
    "tags": []
   },
   "outputs": [
    {
     "data": {
      "text/html": [
       "<div>\n",
       "<style scoped>\n",
       "    .dataframe tbody tr th:only-of-type {\n",
       "        vertical-align: middle;\n",
       "    }\n",
       "\n",
       "    .dataframe tbody tr th {\n",
       "        vertical-align: top;\n",
       "    }\n",
       "\n",
       "    .dataframe thead th {\n",
       "        text-align: right;\n",
       "    }\n",
       "</style>\n",
       "<table border=\"1\" class=\"dataframe\">\n",
       "  <thead>\n",
       "    <tr style=\"text-align: right;\">\n",
       "      <th></th>\n",
       "      <th>Confirmed</th>\n",
       "      <th>Cured</th>\n",
       "      <th>Deaths</th>\n",
       "    </tr>\n",
       "    <tr>\n",
       "      <th>State/UnionTerritory</th>\n",
       "      <th></th>\n",
       "      <th></th>\n",
       "      <th></th>\n",
       "    </tr>\n",
       "  </thead>\n",
       "  <tbody>\n",
       "    <tr>\n",
       "      <th>Maharashtra</th>\n",
       "      <td>6363442</td>\n",
       "      <td>6159676</td>\n",
       "      <td>134201</td>\n",
       "    </tr>\n",
       "    <tr>\n",
       "      <th>Kerala</th>\n",
       "      <td>3586693</td>\n",
       "      <td>3396184</td>\n",
       "      <td>18004</td>\n",
       "    </tr>\n",
       "    <tr>\n",
       "      <th>Karnataka</th>\n",
       "      <td>2921049</td>\n",
       "      <td>2861499</td>\n",
       "      <td>36848</td>\n",
       "    </tr>\n",
       "    <tr>\n",
       "      <th>Tamil Nadu</th>\n",
       "      <td>2579130</td>\n",
       "      <td>2524400</td>\n",
       "      <td>34367</td>\n",
       "    </tr>\n",
       "    <tr>\n",
       "      <th>Andhra Pradesh</th>\n",
       "      <td>1985182</td>\n",
       "      <td>1952736</td>\n",
       "      <td>13564</td>\n",
       "    </tr>\n",
       "  </tbody>\n",
       "</table>\n",
       "</div>"
      ],
      "text/plain": [
       "                      Confirmed    Cured  Deaths\n",
       "State/UnionTerritory                            \n",
       "Maharashtra             6363442  6159676  134201\n",
       "Kerala                  3586693  3396184   18004\n",
       "Karnataka               2921049  2861499   36848\n",
       "Tamil Nadu              2579130  2524400   34367\n",
       "Andhra Pradesh          1985182  1952736   13564"
      ]
     },
     "execution_count": 39,
     "metadata": {},
     "output_type": "execute_result"
    }
   ],
   "source": [
    "top_cured"
   ]
  },
  {
   "cell_type": "code",
   "execution_count": 40,
   "id": "5161ce88",
   "metadata": {
    "execution": {
     "iopub.execute_input": "2022-01-12T12:03:22.458800Z",
     "iopub.status.busy": "2022-01-12T12:03:22.458185Z",
     "iopub.status.idle": "2022-01-12T12:03:22.465918Z",
     "shell.execute_reply": "2022-01-12T12:03:22.466378Z",
     "shell.execute_reply.started": "2022-01-12T10:57:38.166495Z"
    },
    "papermill": {
     "duration": 0.049288,
     "end_time": "2022-01-12T12:03:22.466551",
     "exception": false,
     "start_time": "2022-01-12T12:03:22.417263",
     "status": "completed"
    },
    "tags": []
   },
   "outputs": [
    {
     "data": {
      "text/html": [
       "<div>\n",
       "<style scoped>\n",
       "    .dataframe tbody tr th:only-of-type {\n",
       "        vertical-align: middle;\n",
       "    }\n",
       "\n",
       "    .dataframe tbody tr th {\n",
       "        vertical-align: top;\n",
       "    }\n",
       "\n",
       "    .dataframe thead th {\n",
       "        text-align: right;\n",
       "    }\n",
       "</style>\n",
       "<table border=\"1\" class=\"dataframe\">\n",
       "  <thead>\n",
       "    <tr style=\"text-align: right;\">\n",
       "      <th></th>\n",
       "      <th>Confirmed</th>\n",
       "      <th>Cured</th>\n",
       "      <th>Deaths</th>\n",
       "    </tr>\n",
       "    <tr>\n",
       "      <th>State/UnionTerritory</th>\n",
       "      <th></th>\n",
       "      <th></th>\n",
       "      <th></th>\n",
       "    </tr>\n",
       "  </thead>\n",
       "  <tbody>\n",
       "    <tr>\n",
       "      <th>Maharashtra</th>\n",
       "      <td>6363442</td>\n",
       "      <td>6159676</td>\n",
       "      <td>134201</td>\n",
       "    </tr>\n",
       "    <tr>\n",
       "      <th>Karnataka</th>\n",
       "      <td>2921049</td>\n",
       "      <td>2861499</td>\n",
       "      <td>36848</td>\n",
       "    </tr>\n",
       "    <tr>\n",
       "      <th>Tamil Nadu</th>\n",
       "      <td>2579130</td>\n",
       "      <td>2524400</td>\n",
       "      <td>34367</td>\n",
       "    </tr>\n",
       "    <tr>\n",
       "      <th>Delhi</th>\n",
       "      <td>1436852</td>\n",
       "      <td>1411280</td>\n",
       "      <td>25068</td>\n",
       "    </tr>\n",
       "    <tr>\n",
       "      <th>Uttar Pradesh</th>\n",
       "      <td>1708812</td>\n",
       "      <td>1685492</td>\n",
       "      <td>22775</td>\n",
       "    </tr>\n",
       "  </tbody>\n",
       "</table>\n",
       "</div>"
      ],
      "text/plain": [
       "                      Confirmed    Cured  Deaths\n",
       "State/UnionTerritory                            \n",
       "Maharashtra             6363442  6159676  134201\n",
       "Karnataka               2921049  2861499   36848\n",
       "Tamil Nadu              2579130  2524400   34367\n",
       "Delhi                   1436852  1411280   25068\n",
       "Uttar Pradesh           1708812  1685492   22775"
      ]
     },
     "execution_count": 40,
     "metadata": {},
     "output_type": "execute_result"
    }
   ],
   "source": [
    "top_deaths"
   ]
  },
  {
   "cell_type": "code",
   "execution_count": 41,
   "id": "af4ea8a9",
   "metadata": {
    "execution": {
     "iopub.execute_input": "2022-01-12T12:03:22.549387Z",
     "iopub.status.busy": "2022-01-12T12:03:22.548784Z",
     "iopub.status.idle": "2022-01-12T12:03:22.550334Z",
     "shell.execute_reply": "2022-01-12T12:03:22.550944Z",
     "shell.execute_reply.started": "2022-01-12T10:20:32.23277Z"
    },
    "papermill": {
     "duration": 0.046563,
     "end_time": "2022-01-12T12:03:22.551119",
     "exception": false,
     "start_time": "2022-01-12T12:03:22.504556",
     "status": "completed"
    },
    "tags": []
   },
   "outputs": [],
   "source": [
    "# creating a new dataframe that contains total cases\n",
    "list1 = [\"Confirmed\", \"Cured\", \"Deaths\"]\n",
    "list2 = [total_cases[\"Confirmed\"].sum(axis=0), total_cases[\"Cured\"].sum(axis=0), \n",
    "        total_cases[\"Deaths\"].sum(axis=0)]\n",
    "country_total = pd.DataFrame(list(zip(list1, list2)))"
   ]
  },
  {
   "cell_type": "code",
   "execution_count": 42,
   "id": "4dde92dd",
   "metadata": {
    "execution": {
     "iopub.execute_input": "2022-01-12T12:03:22.630092Z",
     "iopub.status.busy": "2022-01-12T12:03:22.629448Z",
     "iopub.status.idle": "2022-01-12T12:03:22.637277Z",
     "shell.execute_reply": "2022-01-12T12:03:22.637849Z",
     "shell.execute_reply.started": "2022-01-12T10:21:23.7235Z"
    },
    "papermill": {
     "duration": 0.049182,
     "end_time": "2022-01-12T12:03:22.638016",
     "exception": false,
     "start_time": "2022-01-12T12:03:22.588834",
     "status": "completed"
    },
    "tags": []
   },
   "outputs": [
    {
     "data": {
      "text/html": [
       "<div>\n",
       "<style scoped>\n",
       "    .dataframe tbody tr th:only-of-type {\n",
       "        vertical-align: middle;\n",
       "    }\n",
       "\n",
       "    .dataframe tbody tr th {\n",
       "        vertical-align: top;\n",
       "    }\n",
       "\n",
       "    .dataframe thead th {\n",
       "        text-align: right;\n",
       "    }\n",
       "</style>\n",
       "<table border=\"1\" class=\"dataframe\">\n",
       "  <thead>\n",
       "    <tr style=\"text-align: right;\">\n",
       "      <th></th>\n",
       "      <th>Status</th>\n",
       "      <th>Cases</th>\n",
       "    </tr>\n",
       "  </thead>\n",
       "  <tbody>\n",
       "    <tr>\n",
       "      <th>0</th>\n",
       "      <td>Confirmed</td>\n",
       "      <td>32036513</td>\n",
       "    </tr>\n",
       "    <tr>\n",
       "      <th>1</th>\n",
       "      <td>Cured</td>\n",
       "      <td>31220981</td>\n",
       "    </tr>\n",
       "    <tr>\n",
       "      <th>2</th>\n",
       "      <td>Deaths</td>\n",
       "      <td>429179</td>\n",
       "    </tr>\n",
       "  </tbody>\n",
       "</table>\n",
       "</div>"
      ],
      "text/plain": [
       "      Status     Cases\n",
       "0  Confirmed  32036513\n",
       "1      Cured  31220981\n",
       "2     Deaths    429179"
      ]
     },
     "execution_count": 42,
     "metadata": {},
     "output_type": "execute_result"
    }
   ],
   "source": [
    "# adding column names to the dataframe\n",
    "country_total.columns = [\"Status\", \"Cases\"]\n",
    "country_total"
   ]
  },
  {
   "cell_type": "code",
   "execution_count": 43,
   "id": "502f1cf0",
   "metadata": {
    "execution": {
     "iopub.execute_input": "2022-01-12T12:03:22.719917Z",
     "iopub.status.busy": "2022-01-12T12:03:22.719268Z",
     "iopub.status.idle": "2022-01-12T12:03:22.725196Z",
     "shell.execute_reply": "2022-01-12T12:03:22.724686Z",
     "shell.execute_reply.started": "2022-01-12T11:33:31.967339Z"
    },
    "papermill": {
     "duration": 0.049378,
     "end_time": "2022-01-12T12:03:22.725328",
     "exception": false,
     "start_time": "2022-01-12T12:03:22.675950",
     "status": "completed"
    },
    "tags": []
   },
   "outputs": [],
   "source": [
    "# aggregating by month\n",
    "month_total = covid_df.groupby(\"Month\")[\"Confirmed\"].aggregate(max)"
   ]
  },
  {
   "cell_type": "code",
   "execution_count": 44,
   "id": "e8c58439",
   "metadata": {
    "execution": {
     "iopub.execute_input": "2022-01-12T12:03:22.806929Z",
     "iopub.status.busy": "2022-01-12T12:03:22.806265Z",
     "iopub.status.idle": "2022-01-12T12:03:22.809575Z",
     "shell.execute_reply": "2022-01-12T12:03:22.810042Z",
     "shell.execute_reply.started": "2022-01-12T11:43:55.471592Z"
    },
    "papermill": {
     "duration": 0.046971,
     "end_time": "2022-01-12T12:03:22.810201",
     "exception": false,
     "start_time": "2022-01-12T12:03:22.763230",
     "status": "completed"
    },
    "tags": []
   },
   "outputs": [
    {
     "data": {
      "text/plain": [
       "Month\n",
       "April        4539553\n",
       "August       6363442\n",
       "December     1928603\n",
       "February     2146777\n",
       "January      2023814\n",
       "July         6296756\n",
       "June         6051633\n",
       "March        2773436\n",
       "May          5731815\n",
       "November     1820059\n",
       "October      1672858\n",
       "September    1366129\n",
       "Name: Confirmed, dtype: int64"
      ]
     },
     "execution_count": 44,
     "metadata": {},
     "output_type": "execute_result"
    }
   ],
   "source": [
    "month_total"
   ]
  },
  {
   "cell_type": "code",
   "execution_count": 45,
   "id": "4ad80b75",
   "metadata": {
    "execution": {
     "iopub.execute_input": "2022-01-12T12:03:22.892814Z",
     "iopub.status.busy": "2022-01-12T12:03:22.892178Z",
     "iopub.status.idle": "2022-01-12T12:03:22.895231Z",
     "shell.execute_reply": "2022-01-12T12:03:22.894763Z",
     "shell.execute_reply.started": "2022-01-12T11:48:33.530853Z"
    },
    "papermill": {
     "duration": 0.046939,
     "end_time": "2022-01-12T12:03:22.895361",
     "exception": false,
     "start_time": "2022-01-12T12:03:22.848422",
     "status": "completed"
    },
    "tags": []
   },
   "outputs": [],
   "source": [
    "# cfeating two new lists for a new dataframe\n",
    "months = [\"Jan\",\"Feb\",\"Mar\",\"Apr\",\"May\",\"Jun\",\"Jul\",\"Aug\",\"Sep\",\"Oct\",\"Nov\",\"Dec\"]\n",
    "cases = [month_total[\"January\"], month_total[\"February\"],month_total[\"March\"],month_total[\"April\"],\n",
    "        month_total[\"May\"],month_total[\"June\"],month_total[\"July\"],month_total[\"August\"],\n",
    "        month_total[\"September\"],month_total[\"October\"],month_total[\"November\"],\n",
    "         month_total[\"December\"]]"
   ]
  },
  {
   "cell_type": "code",
   "execution_count": 46,
   "id": "bed5fe13",
   "metadata": {
    "execution": {
     "iopub.execute_input": "2022-01-12T12:03:22.978764Z",
     "iopub.status.busy": "2022-01-12T12:03:22.978164Z",
     "iopub.status.idle": "2022-01-12T12:03:22.987278Z",
     "shell.execute_reply": "2022-01-12T12:03:22.987774Z",
     "shell.execute_reply.started": "2022-01-12T11:50:05.486939Z"
    },
    "papermill": {
     "duration": 0.054138,
     "end_time": "2022-01-12T12:03:22.987938",
     "exception": false,
     "start_time": "2022-01-12T12:03:22.933800",
     "status": "completed"
    },
    "tags": []
   },
   "outputs": [
    {
     "data": {
      "text/html": [
       "<div>\n",
       "<style scoped>\n",
       "    .dataframe tbody tr th:only-of-type {\n",
       "        vertical-align: middle;\n",
       "    }\n",
       "\n",
       "    .dataframe tbody tr th {\n",
       "        vertical-align: top;\n",
       "    }\n",
       "\n",
       "    .dataframe thead th {\n",
       "        text-align: right;\n",
       "    }\n",
       "</style>\n",
       "<table border=\"1\" class=\"dataframe\">\n",
       "  <thead>\n",
       "    <tr style=\"text-align: right;\">\n",
       "      <th></th>\n",
       "      <th>Month</th>\n",
       "      <th>Cases</th>\n",
       "    </tr>\n",
       "  </thead>\n",
       "  <tbody>\n",
       "    <tr>\n",
       "      <th>0</th>\n",
       "      <td>Jan</td>\n",
       "      <td>2023814</td>\n",
       "    </tr>\n",
       "    <tr>\n",
       "      <th>1</th>\n",
       "      <td>Feb</td>\n",
       "      <td>2146777</td>\n",
       "    </tr>\n",
       "    <tr>\n",
       "      <th>2</th>\n",
       "      <td>Mar</td>\n",
       "      <td>2773436</td>\n",
       "    </tr>\n",
       "    <tr>\n",
       "      <th>3</th>\n",
       "      <td>Apr</td>\n",
       "      <td>4539553</td>\n",
       "    </tr>\n",
       "    <tr>\n",
       "      <th>4</th>\n",
       "      <td>May</td>\n",
       "      <td>5731815</td>\n",
       "    </tr>\n",
       "    <tr>\n",
       "      <th>5</th>\n",
       "      <td>Jun</td>\n",
       "      <td>6051633</td>\n",
       "    </tr>\n",
       "    <tr>\n",
       "      <th>6</th>\n",
       "      <td>Jul</td>\n",
       "      <td>6296756</td>\n",
       "    </tr>\n",
       "    <tr>\n",
       "      <th>7</th>\n",
       "      <td>Aug</td>\n",
       "      <td>6363442</td>\n",
       "    </tr>\n",
       "    <tr>\n",
       "      <th>8</th>\n",
       "      <td>Sep</td>\n",
       "      <td>1366129</td>\n",
       "    </tr>\n",
       "    <tr>\n",
       "      <th>9</th>\n",
       "      <td>Oct</td>\n",
       "      <td>1672858</td>\n",
       "    </tr>\n",
       "    <tr>\n",
       "      <th>10</th>\n",
       "      <td>Nov</td>\n",
       "      <td>1820059</td>\n",
       "    </tr>\n",
       "    <tr>\n",
       "      <th>11</th>\n",
       "      <td>Dec</td>\n",
       "      <td>1928603</td>\n",
       "    </tr>\n",
       "  </tbody>\n",
       "</table>\n",
       "</div>"
      ],
      "text/plain": [
       "   Month    Cases\n",
       "0    Jan  2023814\n",
       "1    Feb  2146777\n",
       "2    Mar  2773436\n",
       "3    Apr  4539553\n",
       "4    May  5731815\n",
       "5    Jun  6051633\n",
       "6    Jul  6296756\n",
       "7    Aug  6363442\n",
       "8    Sep  1366129\n",
       "9    Oct  1672858\n",
       "10   Nov  1820059\n",
       "11   Dec  1928603"
      ]
     },
     "execution_count": 46,
     "metadata": {},
     "output_type": "execute_result"
    }
   ],
   "source": [
    "# creating a new dataframe to store number of cases by month\n",
    "month_cases = pd.DataFrame(zip(months,cases))\n",
    "month_cases.columns = [\"Month\", \"Cases\"]\n",
    "month_cases"
   ]
  },
  {
   "cell_type": "markdown",
   "id": "c0c2739e",
   "metadata": {
    "papermill": {
     "duration": 0.03858,
     "end_time": "2022-01-12T12:03:23.065682",
     "exception": false,
     "start_time": "2022-01-12T12:03:23.027102",
     "status": "completed"
    },
    "tags": []
   },
   "source": [
    "## Visualizations"
   ]
  },
  {
   "cell_type": "code",
   "execution_count": 47,
   "id": "a508eaf8",
   "metadata": {
    "execution": {
     "iopub.execute_input": "2022-01-12T12:03:23.145323Z",
     "iopub.status.busy": "2022-01-12T12:03:23.144770Z",
     "iopub.status.idle": "2022-01-12T12:03:55.111557Z",
     "shell.execute_reply": "2022-01-12T12:03:55.111100Z",
     "shell.execute_reply.started": "2022-01-12T10:29:20.146667Z"
    },
    "papermill": {
     "duration": 32.007668,
     "end_time": "2022-01-12T12:03:55.111702",
     "exception": false,
     "start_time": "2022-01-12T12:03:23.104034",
     "status": "completed"
    },
    "tags": []
   },
   "outputs": [
    {
     "data": {
      "text/plain": [
       "Text(0, 0.5, 'Number of cases in millions')"
      ]
     },
     "execution_count": 47,
     "metadata": {},
     "output_type": "execute_result"
    },
    {
     "data": {
      "image/png": "[encoded data removed]",
      "text/plain": [
       "<Figure size 432x288 with 1 Axes>"
      ]
     },
     "metadata": {
      "needs_background": "light"
     },
     "output_type": "display_data"
    }
   ],
   "source": [
    "# plotting a time series graph of the number of cases\n",
    "sns.lineplot(data=covid_df, x=\"Date\", y=\"Confirmed\", label=\"Confirmed\")\n",
    "sns.lineplot(data=covid_df, x=\"Date\", y=\"Cured\", label=\"Cured\", linestyle=\"dashed\")\n",
    "sns.lineplot(data=covid_df, x=\"Date\", y=\"Deaths\", label=\"Deaths\")\n",
    "plt.xticks(rotation=30)\n",
    "plt.ylim((0, 1000000))\n",
    "plt.title(\"Number of cases since 30th Jan, 2020\")\n",
    "plt.ylabel(\"Number of cases in millions\")"
   ]
  },
  {
   "cell_type": "code",
   "execution_count": 48,
   "id": "c66e26ed",
   "metadata": {
    "execution": {
     "iopub.execute_input": "2022-01-12T12:03:55.222606Z",
     "iopub.status.busy": "2022-01-12T12:03:55.202026Z",
     "iopub.status.idle": "2022-01-12T12:03:55.391809Z",
     "shell.execute_reply": "2022-01-12T12:03:55.392223Z",
     "shell.execute_reply.started": "2022-01-12T10:24:23.197386Z"
    },
    "papermill": {
     "duration": 0.239545,
     "end_time": "2022-01-12T12:03:55.392385",
     "exception": false,
     "start_time": "2022-01-12T12:03:55.152840",
     "status": "completed"
    },
    "tags": []
   },
   "outputs": [
    {
     "data": {
      "text/plain": [
       "Text(0.5, 1.0, 'Comparison of Confirmed, Cured and Death cases in India')"
      ]
     },
     "execution_count": 48,
     "metadata": {},
     "output_type": "execute_result"
    },
    {
     "data": {
      "image/png": "[encoded data removed]",
      "text/plain": [
       "<Figure size 432x288 with 1 Axes>"
      ]
     },
     "metadata": {
      "needs_background": "light"
     },
     "output_type": "display_data"
    }
   ],
   "source": [
    "# comparing the number of confirmed, cured and death cases\n",
    "sns.barplot(data=country_total, x=\"Status\", y=\"Cases\")\n",
    "plt.xlabel(\"Status\")\n",
    "plt.ylabel(\"Number of cases in crore\")\n",
    "plt.title(\"Comparison of Confirmed, Cured and Death cases in India\")"
   ]
  },
  {
   "cell_type": "code",
   "execution_count": 49,
   "id": "566eb76b",
   "metadata": {
    "execution": {
     "iopub.execute_input": "2022-01-12T12:03:55.511878Z",
     "iopub.status.busy": "2022-01-12T12:03:55.505584Z",
     "iopub.status.idle": "2022-01-12T12:03:55.753186Z",
     "shell.execute_reply": "2022-01-12T12:03:55.752717Z",
     "shell.execute_reply.started": "2022-01-12T11:55:15.34159Z"
    },
    "papermill": {
     "duration": 0.319467,
     "end_time": "2022-01-12T12:03:55.753320",
     "exception": false,
     "start_time": "2022-01-12T12:03:55.433853",
     "status": "completed"
    },
    "tags": []
   },
   "outputs": [
    {
     "data": {
      "image/png": "[encoded data removed]",
      "text/plain": [
       "<Figure size 432x288 with 1 Axes>"
      ]
     },
     "metadata": {
      "needs_background": "light"
     },
     "output_type": "display_data"
    }
   ],
   "source": [
    "sns.barplot(data=month_cases, x=\"Month\", y=\"Cases\")\n",
    "plt.ylabel(\"Number of cases in millions\")\n",
    "plt.title(\"Number of cases by month\")\n",
    "plt.grid()"
   ]
  },
  {
   "cell_type": "markdown",
   "id": "50203283",
   "metadata": {
    "papermill": {
     "duration": 0.041554,
     "end_time": "2022-01-12T12:03:55.836864",
     "exception": false,
     "start_time": "2022-01-12T12:03:55.795310",
     "status": "completed"
    },
    "tags": []
   },
   "source": [
    "## Conclusion\n",
    "* On 11th August, 2021, total number of confirmed cases in India had reached 3.2 crores, out of which 3.1 crore poeple had been cured and the number of reported deaths was around 4.29 lakhs.\n",
    "* Maharashtra, Kerala and Karnataka were the top three states with the most confirmed cases.\n",
    "* In the cases by month graph, we see that the number of cases are less in winter months compared to summer months, which might suggest that coronavirus becomes more active in summer. However, I need more data to support this hypothesis."
   ]
  }
 ],
 "metadata": {
  "kernelspec": {
   "display_name": "Python 3 (ipykernel)",
   "language": "python",
   "name": "python3"
  },
  "language_info": {
   "codemirror_mode": {
    "name": "ipython",
    "version": 3
   },
   "file_extension": ".py",
   "mimetype": "text/x-python",
   "name": "python",
   "nbconvert_exporter": "python",
   "pygments_lexer": "ipython3",
   "version": "3.9.7"
  },
  "papermill": {
   "default_parameters": {},
   "duration": 47.00746,
   "end_time": "2022-01-12T12:03:56.589468",
   "environment_variables": {},
   "exception": null,
   "input_path": "__notebook__.ipynb",
   "output_path": "__notebook__.ipynb",
   "parameters": {},
   "start_time": "2022-01-12T12:03:09.582008",
   "version": "2.3.3"
  }
 },
 "nbformat": 4,
 "nbformat_minor": 5
}
